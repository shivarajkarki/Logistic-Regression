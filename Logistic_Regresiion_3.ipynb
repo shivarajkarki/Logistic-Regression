{
 "cells": [
  {
   "cell_type": "code",
   "execution_count": 1,
   "metadata": {},
   "outputs": [],
   "source": [
    "import numpy as np\n",
    "import pandas as pd\n",
    "import matplotlib.pyplot as plt"
   ]
  },
  {
   "cell_type": "code",
   "execution_count": 2,
   "metadata": {},
   "outputs": [],
   "source": [
    "marks_df = pd.read_csv(\"Downloads/Machine-Learning-master/LogisticRegression/data/marks.txt\", header = None)"
   ]
  },
  {
   "cell_type": "code",
   "execution_count": 3,
   "metadata": {},
   "outputs": [],
   "source": [
    "#consider matrix X as all columns except last column\n",
    "X = marks_df.iloc[:,:-1]"
   ]
  },
  {
   "cell_type": "code",
   "execution_count": 4,
   "metadata": {},
   "outputs": [],
   "source": [
    "#last column as Y\n",
    "Y = marks_df.iloc[:,-1]"
   ]
  },
  {
   "cell_type": "code",
   "execution_count": 5,
   "metadata": {},
   "outputs": [],
   "source": [
    "#filter based on Y value\n",
    "# if Y is 1 consider that as admitted\n",
    "admitted = marks_df.loc[Y==1]"
   ]
  },
  {
   "cell_type": "code",
   "execution_count": 6,
   "metadata": {},
   "outputs": [],
   "source": [
    "# if Y is 0 consider that as not_admitted\n",
    "not_admitted = marks_df.loc[Y==0]"
   ]
  },
  {
   "cell_type": "code",
   "execution_count": 7,
   "metadata": {},
   "outputs": [
    {
     "data": {
      "image/png": "[encoded data removed]",
      "text/plain": [
       "<Figure size 432x288 with 1 Axes>"
      ]
     },
     "metadata": {
      "needs_background": "light"
     },
     "output_type": "display_data"
    }
   ],
   "source": [
    "#display scatter plot for admitted and not admitted\n",
    "plt.scatter(admitted.iloc[:,0], admitted.iloc[:,1], s = 10, label = 'Admit')\n",
    "plt.scatter(not_admitted.iloc[:,0], not_admitted.iloc[:,1], s = 10, label = 'No Admit')\n",
    "plt.legend()\n",
    "plt.show()"
   ]
  },
  {
   "cell_type": "code",
   "execution_count": 8,
   "metadata": {},
   "outputs": [
    {
     "data": {
      "text/plain": [
       "(100, 2)"
      ]
     },
     "execution_count": 8,
     "metadata": {},
     "output_type": "execute_result"
    }
   ],
   "source": [
    "X.shape"
   ]
  },
  {
   "cell_type": "code",
   "execution_count": 9,
   "metadata": {},
   "outputs": [],
   "source": [
    "#prepare X required for linear regression\n",
    "# i,e adding columns of 1 as first column\n",
    "X = np.c_[np.ones((X.shape[0],1)),X] #np.c_ concatenates two matrices along second axis"
   ]
  },
  {
   "cell_type": "code",
   "execution_count": 10,
   "metadata": {},
   "outputs": [],
   "source": [
    "Y = Y[:, np.newaxis] #convert it into 2D"
   ]
  },
  {
   "cell_type": "code",
   "execution_count": 11,
   "metadata": {},
   "outputs": [],
   "source": [
    "#create column matrix theta (default vale = 0)\n",
    "theta = np.zeros((X.shape[1],1))"
   ]
  },
  {
   "cell_type": "code",
   "execution_count": 12,
   "metadata": {},
   "outputs": [],
   "source": [
    "#implement sigmoid function \n",
    "def sigmoid(x):\n",
    "    return 1 / (1 + np.exp(-x))"
   ]
  },
  {
   "cell_type": "markdown",
   "metadata": {},
   "source": [
    "sigmoid function\n",
    "$$ g(z) = \\frac{1}{1+e^{-z}} $$\n",
    "\n",
    "$$ z = (X.\\theta) = \\theta^T X$$"
   ]
  },
  {
   "cell_type": "code",
   "execution_count": 13,
   "metadata": {},
   "outputs": [],
   "source": [
    "def net_input(theta, x):\n",
    "    return np.dot(x,theta)"
   ]
  },
  {
   "cell_type": "code",
   "execution_count": 14,
   "metadata": {},
   "outputs": [],
   "source": [
    "def probability(theta,x):\n",
    "    return sigmoid(net_input(theta,x))"
   ]
  },
  {
   "cell_type": "markdown",
   "metadata": {},
   "source": [
    "\\begin{align}\n",
    "L(\\theta) = \\prod (h_{\\theta}(x)^y(1-h_{\\theta}(x))^{1-y})\n",
    "\\end{align}\n",
    "\n",
    "\\begin{align}\n",
    "cost = l(\\theta) = \\sum (y log h_{\\theta}(x) +(1-y) log(1-h_{\\theta}(x)))\n",
    "\\end{align}\n",
    "\n",
    "taking mean\n",
    "\n",
    "\\begin{align}\n",
    "cost = l(\\theta) = (1/m)\\sum (y log h_{\\theta}(x) +(1-y) log(1-h_{\\theta}(x)))\n",
    "\\end{align}"
   ]
  },
  {
   "cell_type": "code",
   "execution_count": 15,
   "metadata": {},
   "outputs": [],
   "source": [
    "def cost_function (theta, x, y):\n",
    "    m = x.shape[0]\n",
    "    cost = -(1/m) * np.sum(y*np.log(probability(theta,x)) + (1-y)*np.log(1-probability(theta,x)))\n",
    "    return cost"
   ]
  },
  {
   "cell_type": "code",
   "execution_count": 16,
   "metadata": {},
   "outputs": [],
   "source": [
    "def gradient(theta, x, y):\n",
    "    m = x.shape[0]\n",
    "    return (1/m)*np.dot(x.T, sigmoid(net_input(theta,x))-y)"
   ]
  },
  {
   "cell_type": "code",
   "execution_count": 17,
   "metadata": {},
   "outputs": [],
   "source": [
    "from scipy.optimize import fmin_tnc\n",
    "def fit(x, y, theta):\n",
    "   \n",
    "        opt_weights = fmin_tnc(func=cost_function, x0=theta, fprime=gradient,\n",
    "                               args=(x, y.flatten()))\n",
    "        return opt_weights[0]"
   ]
  },
  {
   "cell_type": "markdown",
   "metadata": {},
   "source": [
    "\n",
    "Minimize a function with variables subject to bounds, using\n",
    "gradient information\n",
    "\n",
    "'func', 'x0', 'fprime=None', 'args=()'\n",
    "\n",
    "func : callable ``func(x, *args)``\n",
    "    Function to minimize.\n",
    "\n",
    "fprime : callable ``fprime(x, *args)``, optional, Gradient of `func`. If None, then either `func` must return the\n",
    "    function value and the gradient"
   ]
  },
  {
   "cell_type": "code",
   "execution_count": 19,
   "metadata": {},
   "outputs": [],
   "source": [
    "parameters = fit(X, Y, theta)"
   ]
  },
  {
   "cell_type": "code",
   "execution_count": 20,
   "metadata": {},
   "outputs": [
    {
     "data": {
      "text/plain": [
       "array([-25.1613186 ,   0.20623159,   0.20147149])"
      ]
     },
     "execution_count": 20,
     "metadata": {},
     "output_type": "execute_result"
    }
   ],
   "source": [
    "#returns theta\n",
    "parameters"
   ]
  },
  {
   "cell_type": "code",
   "execution_count": 21,
   "metadata": {},
   "outputs": [],
   "source": [
    "#to plot, find range of X axis\n",
    "x_values = [np.min(X[:, 1] - 5), np.max(X[:, 2] + 5)]"
   ]
  },
  {
   "cell_type": "markdown",
   "metadata": {},
   "source": [
    "$$\\theta _{2} = -(\\frac{\\theta _{0} + \\theta _{1} x_{1}}{x_{2}})$$"
   ]
  },
  {
   "cell_type": "code",
   "execution_count": 22,
   "metadata": {},
   "outputs": [],
   "source": [
    "#find value for theta2\n",
    "y_values = - (parameters[0] + np.dot(parameters[1], x_values)) / parameters[2]"
   ]
  },
  {
   "cell_type": "code",
   "execution_count": 23,
   "metadata": {},
   "outputs": [
    {
     "data": {
      "text/plain": [
       "numpy.ndarray"
      ]
     },
     "execution_count": 23,
     "metadata": {},
     "output_type": "execute_result"
    }
   ],
   "source": [
    "type(y_values)"
   ]
  },
  {
   "cell_type": "code",
   "execution_count": 24,
   "metadata": {},
   "outputs": [
    {
     "data": {
      "text/plain": [
       "(2,)"
      ]
     },
     "execution_count": 24,
     "metadata": {},
     "output_type": "execute_result"
    }
   ],
   "source": [
    "y_values.shape"
   ]
  },
  {
   "cell_type": "code",
   "execution_count": 25,
   "metadata": {},
   "outputs": [
    {
     "name": "stdout",
     "output_type": "stream",
     "text": [
      "[25.05882244669796, 103.86943574220612]\n",
      "[99.23686099 18.56421453]\n"
     ]
    }
   ],
   "source": [
    "print(x_values)\n",
    "print(y_values)"
   ]
  },
  {
   "cell_type": "code",
   "execution_count": 26,
   "metadata": {},
   "outputs": [
    {
     "data": {
      "image/png": "[encoded data removed]",
      "text/plain": [
       "<Figure size 432x288 with 1 Axes>"
      ]
     },
     "metadata": {
      "needs_background": "light"
     },
     "output_type": "display_data"
    }
   ],
   "source": [
    "x_values = [np.min(X[:, 1] - 5), np.max(X[:, 2] + 5)]\n",
    "y_values = - (parameters[0] + np.dot(parameters[1], x_values)) / parameters[2]\n",
    "\n",
    "plt.plot(x_values, y_values, label='Decision Boundary')\n",
    "plt.xlabel('Marks in 1st Exam')\n",
    "plt.ylabel('Marks in 2nd Exam')\n",
    "plt.legend()\n",
    "#plt.show()\n",
    "\n",
    "plt.scatter(admitted.iloc[:,0], admitted.iloc[:,1], s = 10, label = 'Admit')\n",
    "plt.scatter(not_admitted.iloc[:,0], not_admitted.iloc[:,1], s = 10, label = 'No Admit')\n",
    "plt.legend()\n",
    "plt.show()"
   ]
  },
  {
   "cell_type": "code",
   "execution_count": null,
   "metadata": {},
   "outputs": [],
   "source": []
  }
 ],
 "metadata": {
  "kernelspec": {
   "display_name": "Python 3",
   "language": "python",
   "name": "python3"
  },
  "language_info": {
   "codemirror_mode": {
    "name": "ipython",
    "version": 3
   },
   "file_extension": ".py",
   "mimetype": "text/x-python",
   "name": "python",
   "nbconvert_exporter": "python",
   "pygments_lexer": "ipython3",
   "version": "3.7.1"
  }
 },
 "nbformat": 4,
 "nbformat_minor": 2
}
